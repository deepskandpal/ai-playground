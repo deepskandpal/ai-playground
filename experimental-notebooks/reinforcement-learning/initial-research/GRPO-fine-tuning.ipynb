{
 "cells": [
  {
   "cell_type": "raw",
   "metadata": {
    "vscode": {
     "languageId": "raw"
    }
   },
   "source": [
    "# GRPO Fine-tuning with Unsloth\n",
    "\n",
    "[![Open In Colab](https://colab.research.google.com/assets/colab-badge.svg)](https://colab.research.google.com/github/deepskandpal/Interviewprep/blob/main/research/personal-research/maths-for-ml/GRPO-fine-tuning.ipynb)\n",
    "\n",
    "This notebook demonstrates GRPO (Generalized Reward-based Policy Optimization) fine-tuning using Unsloth for efficient training.\n",
    "\n",
    "**Requirements:**\n",
    "- GPU runtime (Tesla T4, V100, or better)\n",
    "- Colab Pro recommended for faster training\n"
   ]
  },
  {
   "cell_type": "code",
   "execution_count": null,
   "id": "c4b85c95",
   "metadata": {},
   "outputs": [
    {
     "name": "stdout",
     "output_type": "stream",
     "text": [
      "\u001b[2mResolved \u001b[1m162 packages\u001b[0m \u001b[2min 0.37ms\u001b[0m\u001b[0m\n",
      "\u001b[2mAudited \u001b[1m105 packages\u001b[0m \u001b[2min 0.01ms\u001b[0m\u001b[0m\n",
      "Dependencies installed from pyproject.toml using uv sync\n",
      "Skipping GPU dependencies on macOS (use GPU-enabled environment for training)\n",
      "To install GPU dependencies on Linux/Windows: uv sync --extra gpu\n"
     ]
    }
   ],
   "source": [
    "#@title Colab Extra Install { display-mode: \"form\" }\n",
    "import os\n",
    "import sys, re, requests\n",
    "import platform\n",
    "\n",
    "# Check if running in Colab\n",
    "is_colab = any('COLAB_' in key for key in os.environ)\n",
    "is_macos = platform.system() == \"Darwin\"\n",
    "\n",
    "if is_colab:\n",
    "    # Install uv in Colab\n",
    "    !curl -LsSf https://astral.sh/uv/install.sh | sh\n",
    "    # Add uv to PATH for Colab\n",
    "    os.environ[\"PATH\"] += os.pathsep + '/root/.cargo/bin'\n",
    "    \n",
    "    # Install GPU packages with uv in Colab\n",
    "    !uv pip install --no-deps unsloth vllm\n",
    "    # [NOTE] Do the below ONLY in Colab! Use [[uv pip install --no-deps unsloth vllm]]\n",
    "    # Skip restarting message in Colab\n",
    "    modules = list(sys.modules.keys())\n",
    "    for x in modules:\n",
    "        if \"PIL\" in x or \"google\" in x:\n",
    "            sys.modules.pop(x, None)\n",
    "    !uv pip install --no-deps bitsandbytes accelerate \"xformers>=0.0.31\" peft \"trl==0.15.2\" triton cut_cross_entropy unsloth_zoo\n",
    "    !uv pip install sentencepiece protobuf \"datasets>=3.4.1\" huggingface_hub hf_transfer\n",
    "    \n",
    "    # vLLM requirements - vLLM breaks Colab due to reinstalling numpy\n",
    "    f = requests.get(\"https://raw.githubusercontent.com/vllm-project/vllm/refs/heads/main/requirements/common.txt\").content\n",
    "    with open(\"vllm_requirements.txt\", \"wb\") as file:\n",
    "        file.write(re.sub(rb\"(transformers|numpy|xformers)[^\\n]{1,}\\n\", b\"\", f))\n",
    "    !uv pip install -r vllm_requirements.txt\n",
    "else:\n",
    "    # Local development: use uv sync to install from pyproject.toml\n",
    "    !uv sync --extra gpu\n",
    "    print(\"Dependencies installed from pyproject.toml using uv sync\")\n",
    "    print(\"Platform-specific packages (GPU dependencies) are automatically handled\")\n"
   ]
  },
  {
   "cell_type": "code",
   "execution_count": 7,
   "id": "e9171112",
   "metadata": {},
   "outputs": [
    {
     "ename": "ModuleNotFoundError",
     "evalue": "No module named 'unsloth'",
     "output_type": "error",
     "traceback": [
      "\u001b[31m---------------------------------------------------------------------------\u001b[39m",
      "\u001b[31mModuleNotFoundError\u001b[39m                       Traceback (most recent call last)",
      "\u001b[36mCell\u001b[39m\u001b[36m \u001b[39m\u001b[32mIn[7]\u001b[39m\u001b[32m, line 1\u001b[39m\n\u001b[32m----> \u001b[39m\u001b[32m1\u001b[39m \u001b[38;5;28;01mfrom\u001b[39;00m\u001b[38;5;250m \u001b[39m\u001b[34;01munsloth\u001b[39;00m\u001b[38;5;250m \u001b[39m\u001b[38;5;28;01mimport\u001b[39;00m FastLanguageModel\n\u001b[32m      2\u001b[39m \u001b[38;5;28;01mimport\u001b[39;00m\u001b[38;5;250m \u001b[39m\u001b[34;01mtorch\u001b[39;00m\n\u001b[32m      3\u001b[39m max_seq_length = \u001b[32m2048\u001b[39m \u001b[38;5;66;03m# Can increase for longer reasoning traces\u001b[39;00m\n",
      "\u001b[31mModuleNotFoundError\u001b[39m: No module named 'unsloth'"
     ]
    }
   ],
   "source": [
    "from unsloth import FastLanguageModel\n",
    "import torch\n",
    "max_seq_length = 2048 # Can increase for longer reasoning traces\n",
    "lora_rank = 32 # Larger rank = smarter, but slower\n",
    "\n",
    "model, tokenizer = FastLanguageModel.from_pretrained(\n",
    "    model_name = \"unsloth/Qwen3-4B-Base\",\n",
    "    max_seq_length = max_seq_length,\n",
    "    load_in_4bit = False, # False for LoRA 16bit\n",
    "    fast_inference = True, # Enable vLLM fast inference\n",
    "    max_lora_rank = lora_rank,\n",
    "    gpu_memory_utilization = 0.7, # Reduce if out of memory\n",
    ")"
   ]
  }
 ],
 "metadata": {
  "kernelspec": {
   "display_name": ".venv",
   "language": "python",
   "name": "python3"
  },
  "language_info": {
   "codemirror_mode": {
    "name": "ipython",
    "version": 3
   },
   "file_extension": ".py",
   "mimetype": "text/x-python",
   "name": "python",
   "nbconvert_exporter": "python",
   "pygments_lexer": "ipython3",
   "version": "3.11.9"
  }
 },
 "nbformat": 4,
 "nbformat_minor": 5
}
